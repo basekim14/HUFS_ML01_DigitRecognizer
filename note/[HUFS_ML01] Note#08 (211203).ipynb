{
 "cells": [
  {
   "cell_type": "markdown",
   "metadata": {},
   "source": [
    "# 한국외대 기계학습 1조 회의록\n",
    "\n",
    "**회의 일시**<br/>\n",
    "2021-12-03\n",
    "\n",
    "**1조 구성원**<br/>\n",
    "김건호(아랍어과), 김한나(국제통상학과), 문은정(융합일본지역전공), 정원창(경제학전공)\n",
    "\n",
    "**목차**\n",
    "\n",
    "- [1. 사전 점검 리뷰](#1.사전-점검-리뷰)\n",
    "\n",
    "\n",
    "\n",
    "---\n",
    "\n",
    "\n",
    "\n",
    "### 1. 사전 점검 리뷰\n",
    "\n",
    "* 11월 30일에 진행된 사전 점검 이후 조원끼리 짧은 회의를 거쳤고, 각자 12월 3일 정기 회의까지 지금까지 진행해온 프로젝트 활동 내용과 사전 점검 내용을 전반적으로 살펴보기로 하였다.\n",
    "* 이후 12월 3일 오후 6시에 회의를 시작하였고, 브레인스토밍 방식으로 여러가지 주제와 접근법에 대해 자유분방한 논의가 진행되었다.\n",
    "* 논의 결과, 강의 내용 7~8강에 해당하는 이미지 데이터 처리에 관한 내용을 다뤄보기로 하였고, 이에 대한 세부적인 주제와 데이터셋을 함께 찾아보았다.\n",
    "  * 사람 얼굴 이미지 데이터셋으로부터 인종 구별\n",
    "    * [Link1](https://www.kaggle.com/vinitasilaparasetty/fitzpatrick-classification-by-ethnicity)\n",
    "  * 강아지와 고양이 얼굴 이미지 데이터셋으로부터 종 구분\n",
    "    * [Link1](https://www.kaggle.com/biaiscience/dogs-vs-cats)\n",
    "    * [Link2](https://www.kaggle.com/andrewmvd/animal-faces)\n",
    "  * 마스크 착용 / 미착용 얼굴 이미지 데이터셋으로부터 마스크 착용 여부 판별\n",
    "    * [Link1](https://www.kaggle.com/sumansid/facemask-dataset)\n",
    "  * 숫자 이미지 데이터셋으로부터 숫자 인식\n",
    "    * [Link1](https://www.kaggle.com/khotijahs1/digitrecognizer)\n",
    "* 조사해본 데이터셋에 대해 기계학습 방법론을 적용하여 분석을 해보고, 분석 결과를 통해 12월 10일에 있을 2차 점검을 준비하기로 하였다."
   ]
  }
 ],
 "metadata": {
  "kernelspec": {
   "display_name": "hufs2102",
   "language": "python",
   "name": "hufs2102"
  },
  "language_info": {
   "codemirror_mode": {
    "name": "ipython",
    "version": 3
   },
   "file_extension": ".py",
   "mimetype": "text/x-python",
   "name": "python",
   "nbconvert_exporter": "python",
   "pygments_lexer": "ipython3",
   "version": "3.9.6"
  }
 },
 "nbformat": 4,
 "nbformat_minor": 4
}
