{
 "cells": [
  {
   "cell_type": "markdown",
   "metadata": {},
   "source": [
    "# 한국외대 기계학습 1조 회의록\n",
    "\n",
    "**회의 일시**<br/>\n",
    "2021-11-26\n",
    "\n",
    "**1조 구성원**<br/>\n",
    "김건호(아랍어과), 김한나(국제통상학과), 문은정(융합일본지역전공), 정원창(경제학전공)\n",
    "\n",
    "**목차**\n",
    "\n",
    "- [1. 조별 면담 준비](#1.-조별-면담-준비)\n",
    "\n",
    "\n",
    "\n",
    "---\n",
    "\n",
    "\n",
    "\n",
    "### 1. 조별 면담 준비\n",
    "\n",
    "| 질문 목록                                                    |\n",
    "| ------------------------------------------------------------ |\n",
    "| ⦁ 현재 프로젝트 진행 방향성과 주제 선정에 대한 적절성        |\n",
    "| ⦁ 종속 변수와 독립 변수 선정에서의 난관                      |\n",
    "| ⦁ 종속 변수가 여러개인 경우 적정 모델(다변량 단순 선형 회귀 모형, 로지스틱, 단순 회귀를 이용한 반복 분석, 다변량 분산 분석) |\n",
    "\n",
    "* 11월 30일에 진행될 조별 면담에 대비하여 현재까지의 진행상황을 정리하고 질문 목록을 작성하였다."
   ]
  }
 ],
 "metadata": {
  "kernelspec": {
   "display_name": "hufs2102",
   "language": "python",
   "name": "hufs2102"
  },
  "language_info": {
   "codemirror_mode": {
    "name": "ipython",
    "version": 3
   },
   "file_extension": ".py",
   "mimetype": "text/x-python",
   "name": "python",
   "nbconvert_exporter": "python",
   "pygments_lexer": "ipython3",
   "version": "3.9.6"
  }
 },
 "nbformat": 4,
 "nbformat_minor": 4
}
