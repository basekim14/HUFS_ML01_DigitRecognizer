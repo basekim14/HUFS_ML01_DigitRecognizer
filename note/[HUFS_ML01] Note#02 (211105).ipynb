{
 "cells": [
  {
   "cell_type": "markdown",
   "metadata": {},
   "source": [
    "# 한국외대 기계학습 1조 회의록\n",
    "\n",
    "**회의 일시**<br/>\n",
    "2021-11-05\n",
    "\n",
    "**1조 구성원**<br/>\n",
    "김건호(아랍어과), 김한나(국제통상학과), 문은정(융합일본지역전공), 정원창(경제학전공)\n",
    "\n",
    "**목차**\n",
    "\n",
    "- [1. 주제 아이디어 의견 공유](#1.-주제-아이디어-의견-공유)\n",
    "- [2. 주제별 인사이트 구상](#2.-주제별-인사이트-구상)\n",
    "\n",
    "\n",
    "\n",
    "---\n",
    "\n",
    "\n",
    "\n",
    "### 1. 주제 아이디어 의견 공유\n",
    "\n",
    "| 주제(선호도)                                  | 제안자 | 내용                                                         |\n",
    "| --------------------------------------------- | ------ | ------------------------------------------------------------ |\n",
    "| Dry Bean (0)                                  | 김한나 | ⦁ [Link](https://archive.ics.uci.edu/ml/datasets/Dry+Bean+Dataset)<br />⦁ 7가지의 dry bean을 고해상도 카메라로 촬영한 데이터 셋 (Seker, Barbunya, Bombay, Cali, Dermosan, Horoz, Sira)<br />⦁ 콩의 특징으로 그룹을 특정시켜 학습시킨 후 예측 |\n",
    "| Predict Future Sales (0)                      | 문은정 | ⦁ [Link](https://www.kaggle.com/c/competitive-data-science-predict-future-sales/overview)<br />⦁ 러시아 최대 소프트웨어 회사 중 하나인 1C Company의 일일 판매 데이터<br/>⦁ 다음 달의 모든 제품과 매장의 총 매출을 예측하는 Kaggle Competitions<br /> |\n",
    "| Store Sales- Time Series<br />Forecasting (0) | 문은정 | ⦁ [Link](https://www.kaggle.com/c/store-sales-time-series-forecasting/overview)<br />⦁ 에콰도르의 대형 식료품 소매업체인 Corporación Favorita의 매출 데이터<br />⦁ 업체의 수천 개의 제품군에 대한 매출을 예측하는 Kaggle Competitions<br /> |\n",
    "| 날씨 예측 (0)                                 | 정원창 | ⦁ 로지스틱 회귀와 다중 회귀으로 분석한 날씨 데이터를 비교 분석 및 예측 |\n",
    "| 미세먼지 농도 예측 (0)                        | 정원창 | ⦁ 미세 먼지(에어코리아), 석유소비량(서울 열린 데이터 광장), 경유소비량(한국 석유 공사)의 상관 관계를 다중 회귀 분석하고 이를 통해 농도 예측 |\n",
    "| 음악 장르 분류 (0)                            | 김건호 | ⦁ [Link](https://www.kaggle.com/andradaolteanu/gtzan-dataset-music-genre-classification)<br />⦁ 10개의 장르별 오디오 파일(블루스, 클래식, 컨트리, 디스코, 힙합, 재즈, 메탈, 팝, 레게, 락)과 각 파일별 음악적 특징에 대한 데이터 셋<br />⦁ 해당 데이터로 학습 시킨 모델로 다양한 곡들의 장르를 예측 하기<br /> |\n",
    "| 코로나 전후<br />게임 플레이 양상 예측(2)     | 김건호 | ⦁ [Link](https://www.kaggle.com/connorwynkoop/steam-monthly-player-data)<br />⦁ 코로나 19 전세계 추이와 라이프스타일 장르 게임 / 비 라이프스타일 장르 게임의 이용 양상 비교<br />⦁ 모형을 만들기 위해서는 현재 데이터 셋과 더불어 게임 별 추가 데이터가 수집이 요구됨(장르, 가격대 등등?) |\n",
    "| 교통 이용량 예측(3)                           | 김한나 | ⦁ [Link](http://data.seoul.go.kr/dataList/OA-12914/S/1/datasetView.do#)<br />⦁ 날씨 데이터, 코로나 현황과 결합해서 대중교통 이용자 수 예측<br />⦁ 독립변수: 강수량, 풍속 등등<br />⦁ 연령별로도 볼 수 있기 때문에 연령별 영향력 등을 비교 해 볼 수 있음<br /> |\n",
    "| 농·수산물 가격 예측(3)                        | 김한나 | ⦁ [Link1](https://dacon.io/competitions/official/235801/data), [Link2](https://www.nongnet.or.kr/anss/splyInfo.do  )<br />⦁ 농·수산물 공급량과 가격, 날씨 간의 관계 조사 |\n",
    "\n",
    "* 조사한 주제 아이디어별로 각 조원들이 발표를 진행하는 방식으로 의견을 공유하였다.\n",
    "* 이후 주제별 선호도를 투표를 통해 취합하여 프로젝트에 적합한 주제를 한정지었다.\n",
    "\n",
    "\n",
    "\n",
    "---\n",
    "\n",
    "\n",
    "\n",
    "### 2. 주제별 인사이트 구상\n",
    "\n",
    "* 최종 프로젝트 주제를 결정하기 위해 의논한 주제와 자체적으로 추가 조사할 주제 중에서 조원별로 원하는 주제를 골라 각자의 방식대로 학습시켜본 후, 추가 회의를 진행하기로 하였다. (2021-11-07 (일) 22:0)N주차\n",
    "* 중간고사 제출과 비슷한 방식으로 각자 작성한 ipynb 파일을 업로드 한 후 의견을 공유하여 추가 회의 당시에 프로젝트 주제를 확정하기로 하였다.\n",
    "\n"
   ]
  }
 ],
 "metadata": {
  "kernelspec": {
   "display_name": "hufs2102",
   "language": "python",
   "name": "hufs2102"
  },
  "language_info": {
   "codemirror_mode": {
    "name": "ipython",
    "version": 3
   },
   "file_extension": ".py",
   "mimetype": "text/x-python",
   "name": "python",
   "nbconvert_exporter": "python",
   "pygments_lexer": "ipython3",
   "version": "3.9.6"
  }
 },
 "nbformat": 4,
 "nbformat_minor": 4
}
